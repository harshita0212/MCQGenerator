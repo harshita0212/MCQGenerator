{
  "nbformat": 4,
  "nbformat_minor": 0,
  "metadata": {
    "colab": {
      "provenance": []
    },
    "kernelspec": {
      "name": "python3",
      "display_name": "Python 3"
    },
    "language_info": {
      "name": "python"
    }
  },
  "cells": [
    {
      "cell_type": "code",
      "execution_count": 1,
      "metadata": {
        "id": "dwQKiUErSujl"
      },
      "outputs": [],
      "source": [
        "import spacy\n",
        "import random\n",
        "from collections import Counter"
      ]
    },
    {
      "cell_type": "code",
      "source": [
        "text = \"\"\"The Greek historian knew what he was talking about. The Nile River fed Egyptian civilization for hundreds of years.\n",
        "The Longest River the Nile is 4,160 miles long—the world’s longest river. It begins near the equator in Africa and\n",
        "flows north to the Mediterranean Sea. In the south the Nile churns with cataracts. A cataract is a waterfall. Near the\n",
        "sea the Nile branches into a delta. A delta is an area near a river’s mouth where the water deposits fine soil called silt.\n",
        "In the delta, the Nile divides into many streams. The river is called the upper Nile in the south and the lower Nile in the\n",
        "north. For centuries, heavy rains in Ethiopia caused the Nile to flood every summer. The floods deposited rich soil along the\n",
        "Nile’s shores. This soil was fertile, which means it was good for growing crops. Unlike the Tigris and Euphrates,\n",
        "the Nile River flooded at the same time every year, so farmers could predict when to plant their crops.\n",
        "\"\"\"\n",
        "num_questions = 5"
      ],
      "metadata": {
        "id": "Qu31rHyFN2zJ"
      },
      "execution_count": 2,
      "outputs": []
    },
    {
      "cell_type": "code",
      "source": [
        "nlp = spacy.load('en_core_web_sm') #module that provides all the tasks related to nlp"
      ],
      "metadata": {
        "id": "j25nVCFaN24X"
      },
      "execution_count": 3,
      "outputs": []
    },
    {
      "cell_type": "code",
      "source": [
        "def generate_mcqs(text, num_questions=5):\n",
        "    # text = clean_text(text)\n",
        "    if text is None:\n",
        "        return []\n",
        "\n",
        "    # Process the text with spaCy\n",
        "    doc = nlp(text)\n",
        "\n",
        "    # Extract sentences from the text\n",
        "    sentences = [sent.text for sent in doc.sents]\n",
        "\n",
        "    # Ensure that the number of questions does not exceed the number of sentences\n",
        "    num_questions = min(num_questions, len(sentences))\n",
        "\n",
        "    # Randomly select sentences to form questions\n",
        "    selected_sentences = random.sample(sentences, num_questions)\n",
        "\n",
        "    # Initialize list to store generated MCQs\n",
        "    mcqs = []\n",
        "\n",
        "    # Generate MCQs for each selected sentence\n",
        "    for sentence in selected_sentences:\n",
        "        # Process the sentence with spaCy\n",
        "        sent_doc = nlp(sentence)\n",
        "\n",
        "        # Extract entities (nouns) from the sentence\n",
        "        nouns = [token.text for token in sent_doc if token.pos_ == \"NOUN\"]\n",
        "\n",
        "        # Ensure there are enough nouns to generate MCQs\n",
        "        if len(nouns) < 2:\n",
        "            continue\n",
        "\n",
        "        # Count the occurrence of each noun\n",
        "        noun_counts = Counter(nouns)\n",
        "\n",
        "        # Select the most common noun as the subject of the question\n",
        "        if noun_counts:\n",
        "            subject = noun_counts.most_common(1)[0][0]\n",
        "\n",
        "            # Generate the question stem\n",
        "            question_stem = sentence.replace(subject, \"______\")\n",
        "\n",
        "            # Generate answer choices\n",
        "            answer_choices = [subject]\n",
        "\n",
        "            # Add some random words from the text as distractors\n",
        "            distractors = list(set(nouns) - {subject})\n",
        "\n",
        "            # Ensure there are at least three distractors\n",
        "            while len(distractors) < 3:\n",
        "                distractors.append(\"[Distractor]\")  # Placeholder for missing distractors\n",
        "\n",
        "            random.shuffle(distractors)\n",
        "            for distractor in distractors[:3]:\n",
        "                answer_choices.append(distractor)\n",
        "\n",
        "            # Shuffle the answer choices\n",
        "            random.shuffle(answer_choices)\n",
        "\n",
        "            # Append the generated MCQ to the list\n",
        "            correct_answer = chr(64 + answer_choices.index(subject) + 1)  # Convert index to letter\n",
        "            mcqs.append((question_stem, answer_choices, correct_answer))\n",
        "    return mcqs\n",
        ""
      ],
      "metadata": {
        "id": "wy1lU61m2cHK"
      },
      "execution_count": 21,
      "outputs": []
    },
    {
      "cell_type": "code",
      "source": [
        "#test the function with the provided text\n",
        "text = \"\"\"The universe is vast and filled with mysteries that continue to captivate scientists and astronomers alike. From the depths of space to the farthest reaches of distant galaxies, the cosmos holds countless wonders waiting to be explored.\n",
        "\n",
        "One of the fundamental concepts in astrophysics is the Big Bang theory, which posits that the universe originated from a singular, infinitely dense point nearly 13.8 billion years ago. Over time, the universe expanded and cooled, giving rise to the formation of galaxies, stars, and planets.\n",
        "\n",
        "Galaxies are immense systems containing billions or even trillions of stars, as well as various types of interstellar matter such as gas, dust, and dark matter. The Milky Way, our home galaxy, is a spiral galaxy containing hundreds of billions of stars, including our own Sun.\n",
        "\n",
        "Stars are the celestial objects that shine brightly in the night sky, fueled by nuclear fusion reactions occurring in their cores. They come in a variety of sizes, colors, and temperatures, with some stars being much larger and hotter than others. The life cycle of a star depends on its mass, with massive stars undergoing supernova explosions at the end of their lives, while smaller stars like our Sun eventually evolve into white dwarfs.\n",
        "\n",
        "Planets orbit stars and come in different types, including terrestrial planets like Earth, gas giants like Jupiter, and icy worlds like Neptune. In our solar system, eight planets revolve around the Sun, each with its own unique characteristics and features.\n",
        "\n",
        "Space exploration has allowed humanity to venture beyond Earth and explore the cosmos firsthand. Missions to the Moon, Mars, and beyond have expanded our understanding of the universe and laid the groundwork for future exploration and colonization of other worlds.\n",
        "\n",
        "The search for extraterrestrial life is a central focus of space exploration, driven by the desire to uncover whether life exists beyond Earth. Scientists study the conditions on other planets and moons in our solar system, as well as exoplanets orbiting distant stars, in the hope of finding signs of life elsewhere in the universe.\n",
        "\n",
        "The study of black holes, mysterious regions of spacetime where gravity is so strong that nothing, not even light, can escape, is another area of active research in astrophysics. Black holes come in various sizes, from stellar-mass black holes formed from the collapse of massive stars to supermassive black holes that lurk at the centers of galaxies.\n",
        "\n",
        "Cosmology, the scientific study of the origin, evolution, and eventual fate of the universe, seeks to answer some of the most profound questions about our existence. By analyzing cosmic microwave background radiation, the distribution of galaxies, and the structure of the universe on the largest scales, cosmologists aim to unravel the mysteries of the cosmos and our place within it.\"\"\"\n",
        "\n",
        "results = generate_mcqs(text, num_questions=10)\n",
        "\n",
        "for i, mcq in enumerate(results, start=1):\n",
        "    question_stem, answer_choices, correct_answer = mcq\n",
        "    print(f\"Q{i}: {question_stem}\")\n",
        "    for j, choice in enumerate(answer_choices, start =1):\n",
        "        print(f\"{chr(j+64)}: {choice}\")\n",
        "\n",
        "    print(f\"Correct Answe: {correct_answer}\")\n",
        "    print(\"====================================================================\")\n",
        "\n",
        "\n",
        "\n",
        "\n"
      ],
      "metadata": {
        "colab": {
          "base_uri": "https://localhost:8080/"
        },
        "id": "OJURsiOBSW1p",
        "outputId": "882d0060-2302-4141-f3a8-8b574df5e529"
      },
      "execution_count": 34,
      "outputs": [
        {
          "output_type": "stream",
          "name": "stdout",
          "text": [
            "Q1: Over ______, the universe expanded and cooled, giving rise to the formation of galaxies, stars, and planets.\n",
            "\n",
            "\n",
            "A: universe\n",
            "B: galaxies\n",
            "C: formation\n",
            "D: time\n",
            "Correct Answe: D\n",
            "====================================================================\n",
            "Q2: ______ to the Moon, Mars, and beyond have expanded our understanding of the universe and laid the groundwork for future exploration and colonization of other worlds.\n",
            "\n",
            "\n",
            "A: worlds\n",
            "B: Missions\n",
            "C: understanding\n",
            "D: colonization\n",
            "Correct Answe: B\n",
            "====================================================================\n",
            "Q3: The life cycle of a star depends on its mass, with massive ______ undergoing supernova explosions at the end of their lives, while smaller ______ like our Sun eventually evolve into white dwarfs.\n",
            "\n",
            "\n",
            "A: stars\n",
            "B: explosions\n",
            "C: life\n",
            "D: star\n",
            "Correct Answe: A\n",
            "====================================================================\n",
            "Q4: One of the fundamental ______ in astrophysics is the Big Bang theory, which posits that the universe originated from a singular, infinitely dense point nearly 13.8 billion years ago.\n",
            "A: theory\n",
            "B: years\n",
            "C: universe\n",
            "D: concepts\n",
            "Correct Answe: D\n",
            "====================================================================\n",
            "Q5: From the ______ of space to the farthest reaches of distant galaxies, the cosmos holds countless wonders waiting to be explored.\n",
            "\n",
            "\n",
            "A: space\n",
            "B: depths\n",
            "C: reaches\n",
            "D: wonders\n",
            "Correct Answe: B\n",
            "====================================================================\n",
            "Q6: ______ study the conditions on other planets and moons in our solar system, as well as exoplanets orbiting distant stars, in the hope of finding signs of life elsewhere in the universe.\n",
            "\n",
            "\n",
            "A: exoplanets\n",
            "B: Scientists\n",
            "C: hope\n",
            "D: moons\n",
            "Correct Answe: B\n",
            "====================================================================\n",
            "Q7: By analyzing cosmic ______ background radiation, the distribution of galaxies, and the structure of the universe on the largest scales, cosmologists aim to unravel the mysteries of the cosmos and our place within it.\n",
            "A: distribution\n",
            "B: scales\n",
            "C: radiation\n",
            "D: microwave\n",
            "Correct Answe: D\n",
            "====================================================================\n",
            "Q8: They come in a ______ of sizes, colors, and temperatures, with some stars being much larger and hotter than others.\n",
            "A: temperatures\n",
            "B: variety\n",
            "C: colors\n",
            "D: stars\n",
            "Correct Answe: B\n",
            "====================================================================\n",
            "Q9: The ______ is vast and filled with mysteries that continue to captivate scientists and astronomers alike.\n",
            "A: mysteries\n",
            "B: universe\n",
            "C: astronomers\n",
            "D: scientists\n",
            "Correct Answe: B\n",
            "====================================================================\n",
            "Q10: The Milky Way, our home ______, is a spiral ______ containing hundreds of billions of stars, including our own Sun.\n",
            "\n",
            "\n",
            "A: home\n",
            "B: billions\n",
            "C: galaxy\n",
            "D: stars\n",
            "Correct Answe: C\n",
            "====================================================================\n"
          ]
        }
      ]
    },
    {
      "cell_type": "code",
      "source": [],
      "metadata": {
        "id": "ZUcR9LuDSW5S"
      },
      "execution_count": null,
      "outputs": []
    },
    {
      "cell_type": "code",
      "source": [],
      "metadata": {
        "id": "9eJXewWtN3Da"
      },
      "execution_count": null,
      "outputs": []
    }
  ]
}